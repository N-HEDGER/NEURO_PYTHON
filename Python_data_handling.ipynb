{
 "cells": [
  {
   "cell_type": "markdown",
   "metadata": {},
   "source": [
    "# An Introduction to interacting with nifti volumes in python."
   ]
  },
  {
   "cell_type": "markdown",
   "metadata": {},
   "source": [
    "## Goals\n",
    "\n",
    "1. Demonstrate data input and output with nibabel.\n",
    "2. Demonstrate interacting with nifi headers.\n",
    "3. Demonstrate manipulating image volumes."
   ]
  },
  {
   "cell_type": "markdown",
   "metadata": {},
   "source": [
    "Nibabel and Nilearn are two very useful packages for neuroimaging data manipulation. \n",
    "\n",
    "[Nibabel](https://nipy.org/nibabel/) is a package designed for interacting with neuroimaging data in common formats.\n",
    "\n",
    "[Nilearn](https://nilearn.github.io/) is a much broader package that has the functionality to perform machine learning. There are examples of all the wonderful things you can do [here](https://nilearn.github.io/auto_examples/index.html). However, I will not be covering machine learning here. I will only be talking about some of the useful functions that nilearn has for plotting/manipulating data."
   ]
  },
  {
   "cell_type": "markdown",
   "metadata": {},
   "source": [
    "## Data input and output."
   ]
  },
  {
   "cell_type": "markdown",
   "metadata": {},
   "source": [
    "First, let's set the path to where our data are located. If you took part in the nipype tutorial, then this is the same data we used before."
   ]
  },
  {
   "cell_type": "code",
   "execution_count": 1,
   "metadata": {},
   "outputs": [],
   "source": [
    "inputpath='/opt/neurohack/examp/bold.nii.gz'\n",
    "atlaspath='/opt/neurohack/examp/maxprob_vol_rh.nii.gz'"
   ]
  },
  {
   "cell_type": "markdown",
   "metadata": {},
   "source": [
    "Now set the path to the outputs. You will need to change my username for yours."
   ]
  },
  {
   "cell_type": "code",
   "execution_count": 2,
   "metadata": {},
   "outputs": [],
   "source": [
    "outputpath='/home/users/yg916972/Desktop'"
   ]
  },
  {
   "cell_type": "markdown",
   "metadata": {},
   "source": [
    "To help us interpret what comes below, I am going to plot the data."
   ]
  },
  {
   "cell_type": "code",
   "execution_count": 3,
   "metadata": {},
   "outputs": [
    {
     "name": "stderr",
     "output_type": "stream",
     "text": [
      "/opt/anaconda/envs/neurohack/lib/python2.7/site-packages/nilearn/__init__.py:73: DeprecationWarning: Python2 support is deprecated and will be removed in the next release. Consider switching to Python 3.6 or 3.7.\n",
      "  _python_deprecation_warnings()\n"
     ]
    },
    {
     "data": {
      "text/plain": [
       "<Figure size 660x260 with 4 Axes>"
      ]
     },
     "metadata": {},
     "output_type": "display_data"
    }
   ],
   "source": [
    "import nilearn\n",
    "from nilearn import image\n",
    "from nilearn import plotting\n",
    "import matplotlib.pyplot as plt\n",
    "firstim=image.index_img(inputpath, 0)\n",
    "display=plotting.plot_anat(firstim)\n",
    "display\n",
    "plt.show()"
   ]
  },
  {
   "cell_type": "markdown",
   "metadata": {},
   "source": [
    "We can see that this is a small FOV volume recorded from the posterior of the brain."
   ]
  },
  {
   "cell_type": "markdown",
   "metadata": {},
   "source": [
    "## How do I get nifti data into python?"
   ]
  },
  {
   "cell_type": "markdown",
   "metadata": {},
   "source": [
    "To do this, we need to import nibabel, and call the 'load' function to load our data into memory."
   ]
  },
  {
   "cell_type": "code",
   "execution_count": 4,
   "metadata": {},
   "outputs": [],
   "source": [
    "import nibabel as nib"
   ]
  },
  {
   "cell_type": "code",
   "execution_count": 5,
   "metadata": {},
   "outputs": [],
   "source": [
    "img1=nib.load(inputpath)"
   ]
  },
  {
   "cell_type": "code",
   "execution_count": 6,
   "metadata": {},
   "outputs": [
    {
     "data": {
      "text/plain": [
       "<nibabel.nifti1.Nifti1Image at 0x7f79d3a27ad0>"
      ]
     },
     "execution_count": 6,
     "metadata": {},
     "output_type": "execute_result"
    }
   ],
   "source": [
    "img1"
   ]
  },
  {
   "cell_type": "markdown",
   "metadata": {},
   "source": [
    "We see that this is a nifti image. Nibabel actually seperates this file into 3 components, *the data*, *the header*, and *the affine*.\n",
    "\n",
    "Let's start with the data."
   ]
  },
  {
   "cell_type": "markdown",
   "metadata": {},
   "source": [
    "To access the data itself, we call the *get_data* function."
   ]
  },
  {
   "cell_type": "code",
   "execution_count": 7,
   "metadata": {},
   "outputs": [],
   "source": [
    "data=img1.get_data()"
   ]
  },
  {
   "cell_type": "markdown",
   "metadata": {},
   "source": [
    "## How do I access different parts of the data?"
   ]
  },
  {
   "cell_type": "markdown",
   "metadata": {},
   "source": [
    "It is first important to learn something about the structure of the data. To do this, we can ask how many dimensions it has."
   ]
  },
  {
   "cell_type": "code",
   "execution_count": 8,
   "metadata": {},
   "outputs": [
    {
     "data": {
      "text/plain": [
       "(97, 115, 97, 120)"
      ]
     },
     "execution_count": 8,
     "metadata": {},
     "output_type": "execute_result"
    }
   ],
   "source": [
    "data.shape"
   ]
  },
  {
   "cell_type": "code",
   "execution_count": 9,
   "metadata": {},
   "outputs": [
    {
     "data": {
      "text/plain": [
       "numpy.ndarray"
      ]
     },
     "execution_count": 9,
     "metadata": {},
     "output_type": "execute_result"
    }
   ],
   "source": [
    "type(data)"
   ]
  },
  {
   "cell_type": "markdown",
   "metadata": {},
   "source": [
    "We see that the data has 4 dimensions. It is a functional image. The first 3 are space dimensions (X,Y,Z) and the final one is time. \n",
    "\n",
    "Thus our data are 97x115x97 voxels with 120 volumes.\n",
    "\n",
    "Our data are in a *numpy* array. This is just the standard format in which arrays are stored in python. It is not much different to how data are stored in multidimensional arrays in matlab or R.\n",
    "\n",
    "Therefore, we can access the first volume of our data as follows."
   ]
  },
  {
   "cell_type": "code",
   "execution_count": 10,
   "metadata": {},
   "outputs": [
    {
     "data": {
      "text/plain": [
       "(97, 115, 97)"
      ]
     },
     "execution_count": 10,
     "metadata": {},
     "output_type": "execute_result"
    }
   ],
   "source": [
    "firstvol=data[:,:,:,0]\n",
    "firstvol.shape"
   ]
  },
  {
   "cell_type": "markdown",
   "metadata": {},
   "source": [
    "Here, the colons denote that we want 'all of' the x,y and z dimensions, but the 0 indicates that we only want the first volume. Note that, in python, indexing starts at 0.\n",
    "\n",
    "Therefore, if we ask for the 120th volume, as follows."
   ]
  },
  {
   "cell_type": "code",
   "execution_count": 11,
   "metadata": {},
   "outputs": [
    {
     "ename": "IndexError",
     "evalue": "index 120 is out of bounds for axis 3 with size 120",
     "output_type": "error",
     "traceback": [
      "\u001b[0;31m---------------------------------------------------------------------------\u001b[0m",
      "\u001b[0;31mIndexError\u001b[0m                                Traceback (most recent call last)",
      "\u001b[0;32m<ipython-input-11-3716d7eb7804>\u001b[0m in \u001b[0;36m<module>\u001b[0;34m()\u001b[0m\n\u001b[0;32m----> 1\u001b[0;31m \u001b[0mlastvol\u001b[0m\u001b[0;34m=\u001b[0m\u001b[0mdata\u001b[0m\u001b[0;34m[\u001b[0m\u001b[0;34m:\u001b[0m\u001b[0;34m,\u001b[0m\u001b[0;34m:\u001b[0m\u001b[0;34m,\u001b[0m\u001b[0;34m:\u001b[0m\u001b[0;34m,\u001b[0m\u001b[0;36m120\u001b[0m\u001b[0;34m]\u001b[0m\u001b[0;34m\u001b[0m\u001b[0m\n\u001b[0m",
      "\u001b[0;31mIndexError\u001b[0m: index 120 is out of bounds for axis 3 with size 120"
     ]
    }
   ],
   "source": [
    "lastvol=data[:,:,:,120]"
   ]
  },
  {
   "cell_type": "markdown",
   "metadata": {},
   "source": [
    "We will get an error. Since our indexing starts at 0, the 120th volume is at index 119."
   ]
  },
  {
   "cell_type": "code",
   "execution_count": 12,
   "metadata": {},
   "outputs": [],
   "source": [
    "lastvol=data[:,:,:,119]"
   ]
  },
  {
   "cell_type": "markdown",
   "metadata": {},
   "source": [
    "This can be a little confusing, since the way python does indexing is different to R, MATLAB etc."
   ]
  },
  {
   "cell_type": "markdown",
   "metadata": {},
   "source": [
    "Now let's suppose that we wanted to access one slice of the data in the x dimension, we would do this as follows.\n",
    "\n",
    "Here for instance, we take slice 40 in the X dimension, from the first volume. "
   ]
  },
  {
   "cell_type": "code",
   "execution_count": 13,
   "metadata": {},
   "outputs": [],
   "source": [
    "myslice=data[40,:,:,0]"
   ]
  },
  {
   "cell_type": "code",
   "execution_count": 14,
   "metadata": {},
   "outputs": [],
   "source": [
    "import matplotlib.pyplot as plt"
   ]
  },
  {
   "cell_type": "markdown",
   "metadata": {},
   "source": [
    "Since a slice is 2 dimensional, we can view it as as we would any other image."
   ]
  },
  {
   "cell_type": "code",
   "execution_count": 15,
   "metadata": {},
   "outputs": [
    {
     "data": {
      "text/plain": [
       "<matplotlib.image.AxesImage at 0x7f79b4a3f390>"
      ]
     },
     "execution_count": 15,
     "metadata": {},
     "output_type": "execute_result"
    },
    {
     "data": {
      "image/png": "[encoded data removed]",
      "text/plain": [
       "<Figure size 432x288 with 1 Axes>"
      ]
     },
     "metadata": {
      "needs_background": "light"
     },
     "output_type": "display_data"
    }
   ],
   "source": [
    "plt.imshow(myslice)"
   ]
  },
  {
   "cell_type": "markdown",
   "metadata": {},
   "source": [
    "Often, we may be quite interested in plotting data over time.\n",
    "\n",
    "Let's say for instance, we wanted to plot data from an individual voxel over the course of the run.\n",
    "\n",
    "Here, we would populate the first 3 dimensions with an index to indicate the voxel we want, but add a colon in the time dimension to indicate we want the whole timeseries. "
   ]
  },
  {
   "cell_type": "code",
   "execution_count": 16,
   "metadata": {},
   "outputs": [],
   "source": [
    "ts=data[58,35,24,:]"
   ]
  },
  {
   "cell_type": "code",
   "execution_count": 17,
   "metadata": {},
   "outputs": [
    {
     "data": {
      "text/plain": [
       "[<matplotlib.lines.Line2D at 0x7f79b499f110>]"
      ]
     },
     "execution_count": 17,
     "metadata": {},
     "output_type": "execute_result"
    },
    {
     "data": {
      "image/png": "[encoded data removed]",
      "text/plain": [
       "<Figure size 432x288 with 1 Axes>"
      ]
     },
     "metadata": {
      "needs_background": "light"
     },
     "output_type": "display_data"
    }
   ],
   "source": [
    "plt.plot(ts)"
   ]
  },
  {
   "cell_type": "markdown",
   "metadata": {},
   "source": [
    "## How do I perform arithmetic on volumes?"
   ]
  },
  {
   "cell_type": "markdown",
   "metadata": {},
   "source": [
    "Often, we may want to perform some arithmetic on functional volumes. For instance, sometimes it is useful to make a mean functional image.\n",
    "\n",
    "Since our data are in numpy format, we can use numpy functions to manipulate them. Therefore, we can simply ask for the mean, specifying that we want to average over the time dimension."
   ]
  },
  {
   "cell_type": "code",
   "execution_count": 18,
   "metadata": {},
   "outputs": [
    {
     "data": {
      "text/plain": [
       "(97, 115, 97)"
      ]
     },
     "execution_count": 18,
     "metadata": {},
     "output_type": "execute_result"
    }
   ],
   "source": [
    "import numpy as np\n",
    "meanvol=np.mean(data,axis=3) # Time is the 3rd dimension\n",
    "meanvol.shape"
   ]
  },
  {
   "cell_type": "markdown",
   "metadata": {},
   "source": [
    "## How can I save nifti files?"
   ]
  },
  {
   "cell_type": "markdown",
   "metadata": {},
   "source": [
    "Nibabel also allows you to save nifit files. For instance, we can save our mean functional volume to a nifti image as follows."
   ]
  },
  {
   "cell_type": "code",
   "execution_count": 19,
   "metadata": {},
   "outputs": [],
   "source": [
    "import os\n",
    "new_img = nib.Nifti1Image(meanvol,affine=img1.affine,header=img1.header)\n",
    "fname=os.path.join(outputpath,'meanvol.nii.gz')\n",
    "nib.save(new_img,fname)"
   ]
  },
  {
   "cell_type": "markdown",
   "metadata": {},
   "source": [
    "Notice that, in order to save to a nifti file, we also need to specify 'header' and 'affine' information (More on this in a moment).\n",
    "\n",
    "Now we plot our mean functional image"
   ]
  },
  {
   "cell_type": "code",
   "execution_count": 20,
   "metadata": {},
   "outputs": [
    {
     "data": {
      "image/png": "[encoded data removed]",
      "text/plain": [
       "<Figure size 475.2x187.2 with 4 Axes>"
      ]
     },
     "metadata": {},
     "output_type": "display_data"
    }
   ],
   "source": [
    "display=plotting.plot_anat(fname)\n",
    "plt.show()"
   ]
  },
  {
   "cell_type": "markdown",
   "metadata": {},
   "source": [
    "In addition to caculating a mean over time, we may also want to calculate a mean across 2 functional runs. To do this, we would do as follows.\n",
    "\n",
    "Note that we only have 1 set of data and so here we are just averaging across two of the same run (ordinarily, of course, we would average across two different runs)."
   ]
  },
  {
   "cell_type": "code",
   "execution_count": 21,
   "metadata": {},
   "outputs": [],
   "source": [
    "runs = [None]*2 # Make an empty list \n",
    "runs[0]=data # Data from the first run\n",
    "runs[1]=data # Data from the second run\n",
    "runs=np.array(runs)"
   ]
  },
  {
   "cell_type": "code",
   "execution_count": 22,
   "metadata": {},
   "outputs": [
    {
     "data": {
      "text/plain": [
       "(2, 97, 115, 97, 120)"
      ]
     },
     "execution_count": 22,
     "metadata": {},
     "output_type": "execute_result"
    }
   ],
   "source": [
    "runs.shape"
   ]
  },
  {
   "cell_type": "markdown",
   "metadata": {},
   "source": [
    "Now we have a new numpy array, with the run number as a new first axis. Therefore, we just have to average across this new axis to average the data across runs. "
   ]
  },
  {
   "cell_type": "code",
   "execution_count": 23,
   "metadata": {},
   "outputs": [],
   "source": [
    "run_average=np.mean(runs,axis=0)"
   ]
  },
  {
   "cell_type": "code",
   "execution_count": 24,
   "metadata": {},
   "outputs": [
    {
     "data": {
      "text/plain": [
       "(97, 115, 97, 120)"
      ]
     },
     "execution_count": 24,
     "metadata": {},
     "output_type": "execute_result"
    }
   ],
   "source": [
    "run_average.shape"
   ]
  },
  {
   "cell_type": "markdown",
   "metadata": {},
   "source": [
    "## How do I interact with the information stored in the nifti header?"
   ]
  },
  {
   "cell_type": "markdown",
   "metadata": {},
   "source": [
    "In order to access the nifti header, we do as follows."
   ]
  },
  {
   "cell_type": "code",
   "execution_count": 25,
   "metadata": {},
   "outputs": [
    {
     "name": "stdout",
     "output_type": "stream",
     "text": [
      "<class 'nibabel.nifti1.Nifti1Header'> object, endian='<'\n",
      "sizeof_hdr      : 348\n",
      "data_type       : \n",
      "db_name         : \n",
      "extents         : 0\n",
      "session_error   : 0\n",
      "regular         : r\n",
      "dim_info        : 0\n",
      "dim             : [  4  97 115  97 120   1   1   1]\n",
      "intent_p1       : 0.0\n",
      "intent_p2       : 0.0\n",
      "intent_p3       : 0.0\n",
      "intent_code     : none\n",
      "datatype        : float32\n",
      "bitpix          : 32\n",
      "slice_start     : 0\n",
      "pixdim          : [1.  2.  2.  2.  1.5 1.  1.  1. ]\n",
      "vox_offset      : 0.0\n",
      "scl_slope       : nan\n",
      "scl_inter       : nan\n",
      "slice_end       : 0\n",
      "slice_code      : unknown\n",
      "xyzt_units      : 10\n",
      "cal_max         : 251009.53\n",
      "cal_min         : -21153.723\n",
      "slice_duration  : 0.0\n",
      "toffset         : 0.0\n",
      "glmax           : 0\n",
      "glmin           : 0\n",
      "descrip         : xform matrices modified by FixHeaderApplyTransforms (niworkflows v1.1.12).\n",
      "aux_file        : \n",
      "qform_code      : mni\n",
      "sform_code      : mni\n",
      "quatern_b       : 0.0\n",
      "quatern_c       : 0.0\n",
      "quatern_d       : 0.0\n",
      "qoffset_x       : -96.5\n",
      "qoffset_y       : -132.5\n",
      "qoffset_z       : -78.5\n",
      "srow_x          : [  2.    0.    0.  -96.5]\n",
      "srow_y          : [   0.     2.     0.  -132.5]\n",
      "srow_z          : [  0.    0.    2.  -78.5]\n",
      "intent_name     : \n",
      "magic           : n+1\n"
     ]
    }
   ],
   "source": [
    "print(img1.header)"
   ]
  },
  {
   "cell_type": "markdown",
   "metadata": {},
   "source": [
    "Here we see a whole bunch of fields. Here I define a function for getting the most important stuff."
   ]
  },
  {
   "cell_type": "code",
   "execution_count": 26,
   "metadata": {},
   "outputs": [],
   "source": [
    "def getniftibits(file):\n",
    "    import pandas as pd\n",
    "    \n",
    "    nifti = nib.load(file)\n",
    "    VOXSIZE = nifti.header['pixdim'][1:4]\n",
    "    SHAPE= (nifti.header['dim'][1:5])\n",
    "    TR = (nifti.header['pixdim'][4:5])\n",
    "    VOXFRAME=pd.DataFrame(VOXSIZE)\n",
    "    VOXFRAME=VOXFRAME.T\n",
    "    SHAPEFRAME=pd.DataFrame(SHAPE)\n",
    "    SHAPEFRAME=SHAPEFRAME.T\n",
    "    VOXFRAME.columns=['VoxsizeX','VoxsizeY','VoxsizeZ']\n",
    "    SHAPEFRAME.columns=['ShapeX','ShapeY','ShapeZ','Volumes']\n",
    "    CFRAMEi=pd.concat([VOXFRAME,SHAPEFRAME],axis=1)\n",
    "    CFRAMEi['TR'] = TR \n",
    "    return(CFRAMEi)"
   ]
  },
  {
   "cell_type": "code",
   "execution_count": 27,
   "metadata": {},
   "outputs": [
    {
     "data": {
      "text/html": [
       "<div>\n",
       "<style scoped>\n",
       "    .dataframe tbody tr th:only-of-type {\n",
       "        vertical-align: middle;\n",
       "    }\n",
       "\n",
       "    .dataframe tbody tr th {\n",
       "        vertical-align: top;\n",
       "    }\n",
       "\n",
       "    .dataframe thead th {\n",
       "        text-align: right;\n",
       "    }\n",
       "</style>\n",
       "<table border=\"1\" class=\"dataframe\">\n",
       "  <thead>\n",
       "    <tr style=\"text-align: right;\">\n",
       "      <th></th>\n",
       "      <th>VoxsizeX</th>\n",
       "      <th>VoxsizeY</th>\n",
       "      <th>VoxsizeZ</th>\n",
       "      <th>ShapeX</th>\n",
       "      <th>ShapeY</th>\n",
       "      <th>ShapeZ</th>\n",
       "      <th>Volumes</th>\n",
       "      <th>TR</th>\n",
       "    </tr>\n",
       "  </thead>\n",
       "  <tbody>\n",
       "    <tr>\n",
       "      <th>0</th>\n",
       "      <td>2.0</td>\n",
       "      <td>2.0</td>\n",
       "      <td>2.0</td>\n",
       "      <td>97</td>\n",
       "      <td>115</td>\n",
       "      <td>97</td>\n",
       "      <td>120</td>\n",
       "      <td>1.5</td>\n",
       "    </tr>\n",
       "  </tbody>\n",
       "</table>\n",
       "</div>"
      ],
      "text/plain": [
       "   VoxsizeX  VoxsizeY  VoxsizeZ  ShapeX  ShapeY  ShapeZ  Volumes   TR\n",
       "0       2.0       2.0       2.0      97     115      97      120  1.5"
      ]
     },
     "execution_count": 27,
     "metadata": {},
     "output_type": "execute_result"
    }
   ],
   "source": [
    "v=getniftibits(inputpath)\n",
    "v"
   ]
  },
  {
   "cell_type": "markdown",
   "metadata": {},
   "source": [
    "We can see that the voxel size (mm), dimensions, repetition time (s) and number of volumes are all stored in here. "
   ]
  },
  {
   "cell_type": "markdown",
   "metadata": {},
   "source": [
    "The *srow* data describe affine transformations that explain how our voxel data relate to positions relative to the magnet isocentre. You can read more on this [here](https://nipy.org/nibabel/coordinate_systems.html) and [here](https://nilearn.github.io/auto_examples/04_manipulating_images/plot_affine_transformation.html#sphx-glr-auto-examples-04-manipulating-images-plot-affine-transformation-py)\n",
    "\n",
    "This affine information can also be accessed more directly as follows."
   ]
  },
  {
   "cell_type": "code",
   "execution_count": 28,
   "metadata": {},
   "outputs": [
    {
     "data": {
      "text/plain": [
       "array([[   2. ,    0. ,    0. ,  -96.5],\n",
       "       [   0. ,    2. ,    0. , -132.5],\n",
       "       [   0. ,    0. ,    2. ,  -78.5],\n",
       "       [   0. ,    0. ,    0. ,    1. ]])"
      ]
     },
     "execution_count": 28,
     "metadata": {},
     "output_type": "execute_result"
    }
   ],
   "source": [
    "img1.affine"
   ]
  },
  {
   "cell_type": "markdown",
   "metadata": {},
   "source": [
    "## How do I resample images?"
   ]
  },
  {
   "cell_type": "markdown",
   "metadata": {},
   "source": [
    "Let's suppose that we wanted to resample some data.\n",
    "\n",
    "A possible reason for this is that we have some functional data sampled in MNI 2mm space and we want to know what voxels correspond to regions of interest in an atlas.\n",
    "\n",
    "Unfortunately, our atlas is in MNI 1mm space. Therefore, it may make sense to downsample the atlas into the same space as our data. "
   ]
  },
  {
   "cell_type": "markdown",
   "metadata": {},
   "source": [
    "To do this, we would define our MNI 152 in 2mm space as a template (nilearn actually has its own copy of this)."
   ]
  },
  {
   "cell_type": "code",
   "execution_count": 29,
   "metadata": {},
   "outputs": [],
   "source": [
    "from nilearn.datasets import load_mni152_template\n",
    "template = load_mni152_template()"
   ]
  },
  {
   "cell_type": "code",
   "execution_count": 30,
   "metadata": {},
   "outputs": [
    {
     "data": {
      "text/plain": [
       "(91, 109, 91)"
      ]
     },
     "execution_count": 30,
     "metadata": {},
     "output_type": "execute_result"
    }
   ],
   "source": [
    "template.shape"
   ]
  },
  {
   "cell_type": "markdown",
   "metadata": {},
   "source": [
    "We would then define our atlas."
   ]
  },
  {
   "cell_type": "code",
   "execution_count": 31,
   "metadata": {},
   "outputs": [
    {
     "data": {
      "text/plain": [
       "(182, 218, 182)"
      ]
     },
     "execution_count": 31,
     "metadata": {},
     "output_type": "execute_result"
    }
   ],
   "source": [
    "atlas=nib.load(atlaspath)\n",
    "atlas.shape"
   ]
  },
  {
   "cell_type": "markdown",
   "metadata": {},
   "source": [
    "This is in MNI 152 1mm space"
   ]
  },
  {
   "cell_type": "markdown",
   "metadata": {},
   "source": [
    "We would then use the nilearn utility 'resample_to_img' to sample our atlas into 2mm space."
   ]
  },
  {
   "cell_type": "code",
   "execution_count": 32,
   "metadata": {},
   "outputs": [],
   "source": [
    "resampled_img = image.resample_to_img(atlas, template)"
   ]
  },
  {
   "cell_type": "code",
   "execution_count": 33,
   "metadata": {},
   "outputs": [
    {
     "data": {
      "text/plain": [
       "(91, 109, 91)"
      ]
     },
     "execution_count": 33,
     "metadata": {},
     "output_type": "execute_result"
    }
   ],
   "source": [
    "resampled_img.shape"
   ]
  },
  {
   "cell_type": "markdown",
   "metadata": {},
   "source": [
    "Our atlas is now in the space that we want. And we can then save it as follows."
   ]
  },
  {
   "cell_type": "code",
   "execution_count": 34,
   "metadata": {},
   "outputs": [],
   "source": [
    "fname=os.path.join(outputpath,'resampled.nii.gz')\n",
    "nib.save(resampled_img,fname)"
   ]
  },
  {
   "cell_type": "code",
   "execution_count": 35,
   "metadata": {},
   "outputs": [
    {
     "data": {
      "text/plain": [
       "<nilearn.plotting.displays.ZSlicer at 0x7f79d5ba74d0>"
      ]
     },
     "execution_count": 35,
     "metadata": {},
     "output_type": "execute_result"
    },
    {
     "data": {
      "image/png": "[encoded data removed]",
      "text/plain": [
       "<Figure size 1108.8x165.6 with 8 Axes>"
      ]
     },
     "metadata": {},
     "output_type": "display_data"
    }
   ],
   "source": [
    "from nilearn.plotting import plot_roi\n",
    "\n",
    "plot_roi(resampled_img,template, display_mode='z', cut_coords=7)"
   ]
  },
  {
   "cell_type": "markdown",
   "metadata": {},
   "source": [
    "Here, we plot the regions of interest onto the MNI brain."
   ]
  },
  {
   "cell_type": "markdown",
   "metadata": {},
   "source": [
    "## Summary\n",
    "\n",
    "This has been a brief tour of manipulating neuroimaging data using python. There are plenty more advanced things to learn and many more useful utilities, particularly with nilearn.\n",
    "\n",
    "To be continued...."
   ]
  }
 ],
 "metadata": {
  "kernelspec": {
   "display_name": "Python 2",
   "language": "python",
   "name": "python2"
  },
  "language_info": {
   "codemirror_mode": {
    "name": "ipython",
    "version": 2
   },
   "file_extension": ".py",
   "mimetype": "text/x-python",
   "name": "python",
   "nbconvert_exporter": "python",
   "pygments_lexer": "ipython2",
   "version": "2.7.15"
  }
 },
 "nbformat": 4,
 "nbformat_minor": 2
}
